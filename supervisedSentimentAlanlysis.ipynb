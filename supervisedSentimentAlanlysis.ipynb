{
 "cells": [
  {
   "cell_type": "markdown",
   "id": "4c4e7541",
   "metadata": {},
   "source": [
    "# SENTIMENT ANALYSIS\n",
    "### Dataset Information\n",
    "The main goal of this project is to identify speech containing hate speech in tweets. To simplify the classification process, we consider a tweet to contain hate speech if it expresses racist or sexist sentiments. Consequently, the task involves categorizing tweets into two groups: those containing hate speech (labeled as 1) and those that do not (labeled as 0).\n",
    "\n",
    "Formally, the objective is to create a model that can predict the labels for the test dataset based on a training sample of tweets and their corresponding labels. In the training dataset, each tweet is associated with a label, where label 1 signifies the presence of hate speech and label 0 indicates the absence of hate speech.\n",
    "\n",
    "The training dataset comprises 12,488 tweets and their respective labels. This data is available in CSV format, with each line of the file containing a tweet ID, its corresponding label, and the content of the tweet.\n",
    "\n",
    "The ultimate aim is to develop a robust classification model that can accurately distinguish between tweets that contain hate speech and those that do not, enabling the detection and handling of potentially harmful content on social media platforms.\n"
   ]
  },
  {
   "cell_type": "code",
   "execution_count": 1,
   "id": "b5ea4b09",
   "metadata": {},
   "outputs": [
    {
     "data": {
      "text/html": [
       "\n",
       "<style>\n",
       ".output_png {\n",
       "    display: table-cell;\n",
       "    text-align: center;\n",
       "    vertical-align: middle;\n",
       "    horizontal-align: middle;\n",
       "}\n",
       "h1,h2 {\n",
       "    text-align: center;\n",
       "    background-color: pink;\n",
       "    padding: 20px;\n",
       "    margin: 0;\n",
       "    color: black;\n",
       "    font-family: ariel;\n",
       "    border-radius: 80px\n",
       "}\n",
       "\n",
       "h3 {\n",
       "    text-align: center;\n",
       "    border-style: solid;\n",
       "    border-width: 3px;\n",
       "    padding: 12px;\n",
       "    margin: 0;\n",
       "    color: black;\n",
       "    font-family: ariel;\n",
       "    border-radius: 80px;\n",
       "    border-color: gold;\n",
       "}\n",
       "\n",
       "body, p {\n",
       "    font-family: ariel;\n",
       "    font-size: 15px;\n",
       "    color: charcoal;\n",
       "}\n",
       "div {\n",
       "    font-size: 14px;\n",
       "    margin: 0;\n",
       "\n",
       "}\n",
       "\n",
       "h4 {\n",
       "    padding: 0px;\n",
       "    margin: 0;\n",
       "    font-family: ariel;\n",
       "    color: purple;\n",
       "}\n",
       "</style>\n"
      ],
      "text/plain": [
       "<IPython.core.display.HTML object>"
      ]
     },
     "execution_count": 1,
     "metadata": {},
     "output_type": "execute_result"
    }
   ],
   "source": [
    "from IPython.core.display import HTML\n",
    "HTML(\"\"\"\n",
    "<style>\n",
    ".output_png {\n",
    "    display: table-cell;\n",
    "    text-align: center;\n",
    "    vertical-align: middle;\n",
    "    horizontal-align: middle;\n",
    "}\n",
    "h1,h2 {\n",
    "    text-align: center;\n",
    "    background-color: pink;\n",
    "    padding: 20px;\n",
    "    margin: 0;\n",
    "    color: black;\n",
    "    font-family: ariel;\n",
    "    border-radius: 80px\n",
    "}\n",
    "\n",
    "h3 {\n",
    "    text-align: center;\n",
    "    border-style: solid;\n",
    "    border-width: 3px;\n",
    "    padding: 12px;\n",
    "    margin: 0;\n",
    "    color: black;\n",
    "    font-family: ariel;\n",
    "    border-radius: 80px;\n",
    "    border-color: gold;\n",
    "}\n",
    "\n",
    "body, p {\n",
    "    font-family: ariel;\n",
    "    font-size: 15px;\n",
    "    color: charcoal;\n",
    "}\n",
    "div {\n",
    "    font-size: 14px;\n",
    "    margin: 0;\n",
    "\n",
    "}\n",
    "\n",
    "h4 {\n",
    "    padding: 0px;\n",
    "    margin: 0;\n",
    "    font-family: ariel;\n",
    "    color: purple;\n",
    "}\n",
    "</style>\n",
    "\"\"\")"
   ]
  },
  {
   "cell_type": "markdown",
   "id": "14840d07",
   "metadata": {},
   "source": [
    "## IMPORT NECESSARY LIBRARIES"
   ]
  },
  {
   "cell_type": "code",
   "execution_count": 2,
   "id": "a42cd216",
   "metadata": {},
   "outputs": [
    {
     "name": "stderr",
     "output_type": "stream",
     "text": [
      "[nltk_data] Downloading package stopwords to\n",
      "[nltk_data]     C:\\Users\\patty\\AppData\\Roaming\\nltk_data...\n",
      "[nltk_data]   Package stopwords is already up-to-date!\n",
      "[nltk_data] Downloading package punkt to\n",
      "[nltk_data]     C:\\Users\\patty\\AppData\\Roaming\\nltk_data...\n",
      "[nltk_data]   Package punkt is already up-to-date!\n",
      "[nltk_data] Downloading package averaged_perceptron_tagger to\n",
      "[nltk_data]     C:\\Users\\patty\\AppData\\Roaming\\nltk_data...\n",
      "[nltk_data]   Package averaged_perceptron_tagger is already up-to-\n",
      "[nltk_data]       date!\n",
      "[nltk_data] Downloading package wordnet to\n",
      "[nltk_data]     C:\\Users\\patty\\AppData\\Roaming\\nltk_data...\n",
      "[nltk_data]   Package wordnet is already up-to-date!\n",
      "[nltk_data] Downloading package omw-1.4 to\n",
      "[nltk_data]     C:\\Users\\patty\\AppData\\Roaming\\nltk_data...\n",
      "[nltk_data]   Package omw-1.4 is already up-to-date!\n"
     ]
    }
   ],
   "source": [
    "# DataFrame\n",
    "import pandas as pd\n",
    "import numpy as np\n",
    "import seaborn as sns \n",
    "\n",
    "# Matplot\n",
    "import matplotlib.pyplot as plt\n",
    "%matplotlib inline\n",
    "\n",
    "from matplotlib.ticker import MaxNLocator\n",
    "import matplotlib.gridspec as gridspec\n",
    "import matplotlib.patches as mpatches\n",
    "\n",
    "# Scikit-learn\n",
    "from sklearn.model_selection import train_test_split\n",
    "from sklearn.preprocessing import LabelEncoder\n",
    "from sklearn.metrics import confusion_matrix, classification_report, accuracy_score\n",
    "from sklearn.manifold import TSNE\n",
    "from sklearn.feature_extraction.text import CountVectorizer, TfidfVectorizer\n",
    "from sklearn.decomposition import LatentDirichletAllocation, NMF\n",
    "from sklearn.metrics import f1_score, accuracy_score\n",
    "\n",
    "\n",
    "# Keras\n",
    "from keras.preprocessing.text import Tokenizer\n",
    "from keras.preprocessing.sequence import pad_sequences\n",
    "from keras.models import Sequential\n",
    "from keras.layers import Activation, Dense, Dropout, Embedding, Flatten, Conv1D, MaxPooling1D, LSTM\n",
    "from keras import utils\n",
    "from keras.callbacks import ReduceLROnPlateau, EarlyStopping\n",
    "\n",
    "# nltk\n",
    "from nltk.corpus import stopwords\n",
    "from nltk.stem import SnowballStemmer\n",
    "import nltk\n",
    "nltk.download('stopwords')\n",
    "nltk.download('punkt')\n",
    "nltk.download('averaged_perceptron_tagger')\n",
    "nltk.download('wordnet')\n",
    "from nltk.corpus import stopwords, wordnet\n",
    "from nltk.stem import WordNetLemmatizer\n",
    "from nltk.tokenize import word_tokenize\n",
    "from nltk.probability import FreqDist\n",
    "import nltk\n",
    "nltk.download('omw-1.4')\n",
    "\n",
    "# Word2vec\n",
    "import gensim\n",
    "from gensim.test.utils import common_texts\n",
    "from gensim.models import Word2Vec\n",
    "\n",
    "\n",
    "# Utility\n",
    "import string\n",
    "import re\n",
    "import numpy as np\n",
    "import os\n",
    "from collections import Counter\n",
    "import logging\n",
    "import time\n",
    "import pickle\n",
    "import itertools\n",
    "import random\n",
    "import datetime\n",
    "\n",
    "# WordCloud\n",
    "from PIL import Image\n",
    "from wordcloud import WordCloud, STOPWORDS, ImageColorGenerator\n",
    "from collections import Counter, defaultdict\n",
    "\n",
    "# Warnings\n",
    "import warnings \n",
    "warnings.filterwarnings('ignore')\n",
    "\n",
    "# Set log\n",
    "logging.basicConfig(format='%(asctime)s : %(levelname)s : %(message)s', level=logging.INFO)"
   ]
  },
  {
   "cell_type": "code",
   "execution_count": 3,
   "id": "08907343",
   "metadata": {},
   "outputs": [
    {
     "name": "stdout",
     "output_type": "stream",
     "text": [
      "-1.0\n"
     ]
    }
   ],
   "source": [
    "# Read in data\n",
    "df = pd.read_csv('Twitter_Data.csv')\n",
    "df['id']= range(1,len(df)+1)\n",
    "new_twitter_csv = 'new_twitter_dataset.csv'\n",
    "df.to_csv(new_twitter_csv,index=False)\n",
    "df.head(5)\n",
    "print(df['category'][0])"
   ]
  },
  {
   "cell_type": "code",
   "execution_count": 4,
   "id": "3e922e87",
   "metadata": {},
   "outputs": [
    {
     "name": "stdout",
     "output_type": "stream",
     "text": [
      "<class 'pandas.core.frame.DataFrame'>\n",
      "RangeIndex: 162980 entries, 0 to 162979\n",
      "Data columns (total 3 columns):\n",
      " #   Column      Non-Null Count   Dtype  \n",
      "---  ------      --------------   -----  \n",
      " 0   clean_text  162976 non-null  object \n",
      " 1   category    162973 non-null  float64\n",
      " 2   id          162980 non-null  int64  \n",
      "dtypes: float64(1), int64(1), object(1)\n",
      "memory usage: 3.7+ MB\n"
     ]
    },
    {
     "data": {
      "image/png": "[encoded data removed]",
      "text/plain": [
       "<Figure size 640x480 with 1 Axes>"
      ]
     },
     "metadata": {},
     "output_type": "display_data"
    }
   ],
   "source": [
    "#Bar chart for the training data. From the bar chart below we see that the data is biased towards the positive comments.\n",
    "categories = [df['category'][0], df['category'][1],df['category'][2]]\n",
    "category_labels = ['Negative', 'Neutral', 'Positive']\n",
    "category_counts = df['category'].value_counts().sort_index()\n",
    "df.drop_duplicates()\n",
    "df.info()\n",
    "# Create a bar chart\n",
    "plt.bar(categories, category_counts, tick_label=category_labels, color=['red', 'gray', 'green'])\n",
    "plt.xlabel('Sentiment Category')\n",
    "plt.ylabel('Number of Texts')\n",
    "plt.title('Sentiment Analysis Results')\n",
    "plt.show()"
   ]
  },
  {
   "cell_type": "code",
   "execution_count": 5,
   "id": "32744d93",
   "metadata": {},
   "outputs": [
    {
     "name": "stdout",
     "output_type": "stream",
     "text": [
      "                                          clean_text  category  id\n",
      "0  when modi promised “minimum government maximum...      -1.0   1\n",
      "1  talk all the nonsense and continue all the dra...       0.0   2\n",
      "2  what did just say vote for modi  welcome bjp t...       1.0   3\n",
      "3  asking his supporters prefix chowkidar their n...       1.0   4\n",
      "4  answer who among these the most powerful world...       1.0   5\n",
      "['kiya', 'tho', 'refresh', 'maarkefir', 'comment']\n"
     ]
    }
   ],
   "source": [
    "# Drop missing values\n",
    "df.dropna(how='any', inplace=True)\n",
    "\n",
    "# Verify the DataFrame contents and index\n",
    "print(df.head())\n",
    "\n",
    "# Accessing the 6th row of 'tweet' column\n",
    "index_to_access = 5  # This is the index, not the row number\n",
    "if index_to_access < len(df):\n",
    "    example = df['clean_text'].iloc[index_to_access]  # Using iloc to access by index\n",
    "    tokens = nltk.word_tokenize(example)\n",
    "    print(tokens[:5])\n",
    "else:\n",
    "    print(\"Index out of range.\")"
   ]
  },
  {
   "cell_type": "code",
   "execution_count": 6,
   "id": "c2b7ae9d",
   "metadata": {},
   "outputs": [
    {
     "name": "stdout",
     "output_type": "stream",
     "text": [
      "(S kiya/NN tho/NN refresh/JJ maarkefir/JJ comment/NN karo/NN)\n"
     ]
    },
    {
     "name": "stderr",
     "output_type": "stream",
     "text": [
      "[nltk_data] Downloading package maxent_ne_chunker to\n",
      "[nltk_data]     C:\\Users\\patty\\AppData\\Roaming\\nltk_data...\n",
      "[nltk_data]   Package maxent_ne_chunker is already up-to-date!\n",
      "[nltk_data] Downloading package words to\n",
      "[nltk_data]     C:\\Users\\patty\\AppData\\Roaming\\nltk_data...\n",
      "[nltk_data]   Package words is already up-to-date!\n"
     ]
    }
   ],
   "source": [
    "nltk.download('maxent_ne_chunker')\n",
    "nltk.download('words')\n",
    "tagged = nltk.pos_tag(tokens)\n",
    "tagged[:5]\n",
    "entities = nltk.chunk.ne_chunk(tagged)\n",
    "entities.pprint()"
   ]
  },
  {
   "cell_type": "markdown",
   "id": "43aca7df",
   "metadata": {},
   "source": [
    "## VADER MODEL \n",
    "\n",
    "**VADER (Valence Aware Dictionary and sEntiment Reasoner)** is a lexicon and rule-based sentiment analysis tool specifically designed for social media text. It was developed by C.J. Hutto and Eric Gilbert to handle the nuances and specific language patterns found in social media content, including emojis, slang, and informal language. It assesses polarity (positive, negative, or neutral) and intensity using a lexicon of words with sentiment scores. It takes into account emojis, slang, and modifiers, and computes sentiment by combining word scores while allowing for valence shifters. VADER categorises sentiment as positive, negative, or neutral and assigns an intensity level ranging from -1 to 1. It is useful for analysing informal content such as social media, but it may struggle in formal or sophisticated environments.  VADER employs a lexicon of words and the sentiment scores associated with them. Each word in the lexicon receives a polarity (positive or negative) and an intensity (strong of sentiment) value. The lexicon also takes into account various forms of a word, capitalization, and modifiers (e.g., \"very\" or \"extremely\") to adjust the sentiment intensity.\n",
    "\n",
    "### STEP 1:\n",
    "### VADER Sentiment Scoring\n",
    "I will use the nltk's SentimentIntensityAnalyzer to get the sentiment score of aech text wether its pos, neg or neutral. This approach uses bag of words and the first step will be to remove the stop words which doesnt really give a sentiment value to the text and secondly, i will score each word and combine to a total score.\n",
    " "
   ]
  },
  {
   "cell_type": "code",
   "execution_count": 7,
   "id": "8f634512",
   "metadata": {},
   "outputs": [
    {
     "name": "stderr",
     "output_type": "stream",
     "text": [
      "[nltk_data] Downloading package vader_lexicon to\n",
      "[nltk_data]     C:\\Users\\patty\\AppData\\Roaming\\nltk_data...\n",
      "[nltk_data]   Package vader_lexicon is already up-to-date!\n"
     ]
    }
   ],
   "source": [
    "nltk.download('vader_lexicon')\n",
    "from nltk.sentiment import SentimentIntensityAnalyzer\n",
    "from tqdm.notebook import tqdm\n",
    "sia = SentimentIntensityAnalyzer()"
   ]
  },
  {
   "cell_type": "code",
   "execution_count": 11,
   "id": "5908ceb0",
   "metadata": {},
   "outputs": [
    {
     "data": {
      "application/vnd.jupyter.widget-view+json": {
       "model_id": "1a3bfb1bb427443a9002ddcf29f3c7f5",
       "version_major": 2,
       "version_minor": 0
      },
      "text/plain": [
       "  0%|          | 0/162969 [00:00<?, ?it/s]"
      ]
     },
     "metadata": {},
     "output_type": "display_data"
    },
    {
     "data": {
      "image/png": "[encoded data removed]",
      "text/plain": [
       "<Figure size 1200x500 with 2 Axes>"
      ]
     },
     "metadata": {},
     "output_type": "display_data"
    }
   ],
   "source": [
    "\n",
    "# Define categories and labels\n",
    "categories = [-1, 0, 1]\n",
    "category_labels = ['Negative', 'Neutral', 'Positive']\n",
    "\n",
    "# Create subplots\n",
    "fig, axs = plt.subplots(1, 2, figsize=(12, 5))  # 1 row, 2 columns\n",
    "\n",
    "# Subplot 1: Bar chart for the training data\n",
    "category_counts_train = df['category'].value_counts().sort_index()\n",
    "axs[0].bar(categories, category_counts_train, tick_label=category_labels, color=['red', 'gray', 'green'])\n",
    "axs[0].set_xlabel('Sentiment Category')\n",
    "axs[0].set_ylabel('Number of Texts')\n",
    "axs[0].set_title('Training Data Sentiment Analysis')\n",
    "\n",
    "# Subplot 2: Vader Sentiment Analysis Results\n",
    "sentiments = []\n",
    "for row in tqdm(df.iterrows(), total=len(df)):\n",
    "    text = row[1]['clean_text']\n",
    "    sentiment = sia.polarity_scores(text)\n",
    "    sentiments.append(sentiment['compound'])\n",
    "\n",
    "# Convert sentiments to sentiment labels based on threshold\n",
    "threshold = 0.05  # Adjust this threshold as needed\n",
    "predicted_categories = []\n",
    "for sentiment in sentiments:\n",
    "    if sentiment < -threshold:\n",
    "        predicted_categories.append(-1)  # Negative\n",
    "    elif sentiment > threshold:\n",
    "        predicted_categories.append(1)   # Positive\n",
    "    else:\n",
    "        predicted_categories.append(0)   # Neutral\n",
    "\n",
    "\n",
    "axs[1].bar(categories, category_counts_vader, tick_label=category_labels, color=['red', 'gray', 'green'])\n",
    "axs[1].set_xlabel('Sentiment Category')\n",
    "axs[1].set_ylabel('Number of Texts')\n",
    "axs[1].set_title('VADER Sentiment Analysis Results')\n",
    "\n",
    "# Adjust layout for better spacing between subplots\n",
    "plt.tight_layout()\n",
    "\n",
    "# Show the subplots\n",
    "plt.show()"
   ]
  },
  {
   "cell_type": "code",
   "execution_count": 12,
   "id": "f420637e",
   "metadata": {},
   "outputs": [],
   "source": [
    "#Storing the vader results as a csv\n",
    "vaders= pd.DataFrame(sentiments).T\n",
    "vaders = vaders.reset_index().rename(columns={'index':'id'})\n",
    "vaders = vaders.merge(df,how= 'left', on = 'id')\n",
    "vaders_data = vaders.to_csv('vaders_data_outcome')"
   ]
  },
  {
   "cell_type": "code",
   "execution_count": 13,
   "id": "3b493e41",
   "metadata": {},
   "outputs": [
    {
     "name": "stdout",
     "output_type": "stream",
     "text": [
      "Accuracy Percentage: 56.796077781664\n"
     ]
    }
   ],
   "source": [
    "# Get the actual categories from the DataFrame\n",
    "actual_categories = df['category']\n",
    "\n",
    "# Compare predicted categories with actual categories and calculate accuracy\n",
    "correct_predictions = sum(predicted == actual for predicted, actual in zip(predicted_categories, actual_categories))\n",
    "total_predictions = len(df)\n",
    "accuracy_percentage = (correct_predictions / total_predictions) * 100\n",
    "\n",
    "print(\"Accuracy Percentage:\", accuracy_percentage)"
   ]
  },
  {
   "cell_type": "markdown",
   "id": "4f1513ce",
   "metadata": {},
   "source": [
    "## Summary: Twitter Reviews Sentiment Data Analysis using VADER\n",
    "In this analysis, we employed the VADER sentiment analysis tool to evaluate the sentiment expressed in a collection of Twitter reviews. The goal was to categorize the sentiments of these reviews as either negative, neutral, or positive.\n",
    "After preprocessing the Twitter reviews by cleaning the text and extracting relevant features, we ran the VADER sentiment analysis on each review. The VADER tool produced compound scores ranging from -1 (most negative) to 1 (most positive), which we used to categorize the sentiments into the three predefined categories.Our analysis yielded an **accuracy percentage of 56.80%** when comparing the predicted sentiment labels by VADER against the actual sentiment labels from the data.\n",
    "\n",
    "Interpreting the accuracy percentage in light of the task and dataset is crucial. The comparatively moderate accuracy indicates that, despite VADER's success in identifying sentiment patterns in Twitter reviews, there are difficulties in separating subtle feelings, sarcasm, or context-dependent meanings, which are frequently present in social media writing.I will go on and consider using a more advanced sentiment analysis methods, like machine learning models or deep learning strategies, to get even higher accuracy. \n"
   ]
  },
  {
   "cell_type": "code",
   "execution_count": 14,
   "id": "3c57f4d7",
   "metadata": {},
   "outputs": [
    {
     "name": "stdout",
     "output_type": "stream",
     "text": [
      "Task 1:\n",
      "Nile\n",
      "Yangtze\n",
      "Murray-Darling\n",
      "Volga\n",
      "Mississippi\n",
      "Amazon\n",
      "\n",
      "Task 2:\n",
      "Total length of all rivers: 18646 miles\n",
      "\n",
      "Extension 1:\n",
      "Murray-Darling\n",
      "Mississippi\n",
      "\n",
      "Extension 2:\n",
      "Nile - 6651.20 km\n",
      "Yangtze - 5494.40 km\n",
      "Murray-Darling - 3696.00 km\n",
      "Volga - 3664.00 km\n",
      "Mississippi - 4064.00 km\n",
      "Amazon - 6264.00 km\n"
     ]
    }
   ],
   "source": [
    "rivers = [\n",
    "    {\"name\": \"Nile\", \"length\": 4157},\n",
    "    {\"name\": \"Yangtze\", \"length\": 3434},\n",
    "    {\"name\": \"Murray-Darling\", \"length\": 2310},\n",
    "    {\"name\": \"Volga\", \"length\": 2290},\n",
    "    {\"name\": \"Mississippi\", \"length\": 2540},\n",
    "    {\"name\": \"Amazon\", \"length\": 3915}\n",
    "]\n",
    "\n",
    "# Task 1: Printing out each river's name\n",
    "print(\"Task 1:\")\n",
    "for river in rivers:\n",
    "    print(river[\"name\"])\n",
    "\n",
    "# Task 2: Add up and print out the total length o,..,,,,,,,,,,,,,,,,,,,,,,,,,,,,,,,,,,,,,,,,,,,,,,,,,,,,,,,,,,,,,,,,,,,rivers\n",
    "total_length = 0\n",
    "for river in rivers:\n",
    "    total_length += river[\"length\"]\n",
    "print(\"\\nTask 2:\")\n",
    "print(\"Total length of all rivers:\", total_length, \"miles\")\n",
    "\n",
    "# Extension 1: Print out river names that begin with the letter \"M\"\n",
    "print(\"\\nExtension 1:\")\n",
    "for river in rivers:\n",
    "    if river[\"name\"].startswith(\"M\"):\n",
    "        print(river[\"name\"])\n",
    "\n",
    "# Extension 2: Convert and print river lengths from miles to kilometers\n",
    "print(\"\\nExtension 2:\")\n",
    "conversion_factor = 1.6  # 1 mile is roughly 1.6 kilometers\n",
    "for river in rivers:\n",
    "    length_km = river[\"length\"] * conversion_factor\n",
    "    print(f\"{river['name']} - {length_km:.2f} km\")\n"
   ]
  },
  {
   "cell_type": "code",
   "execution_count": null,
   "id": "11aa75ef",
   "metadata": {},
   "outputs": [],
   "source": []
  },
  {
   "cell_type": "code",
   "execution_count": null,
   "id": "63680d4d",
   "metadata": {},
   "outputs": [],
   "source": []
  },
  {
   "cell_type": "code",
   "execution_count": null,
   "id": "fc68e3a6",
   "metadata": {},
   "outputs": [],
   "source": []
  },
  {
   "cell_type": "code",
   "execution_count": null,
   "id": "edb7f8bf",
   "metadata": {},
   "outputs": [],
   "source": []
  }
 ],
 "metadata": {
  "kernelspec": {
   "display_name": "Python 3 (ipykernel)",
   "language": "python",
   "name": "python3"
  },
  "language_info": {
   "codemirror_mode": {
    "name": "ipython",
    "version": 3
   },
   "file_extension": ".py",
   "mimetype": "text/x-python",
   "name": "python",
   "nbconvert_exporter": "python",
   "pygments_lexer": "ipython3",
   "version": "3.9.13"
  }
 },
 "nbformat": 4,
 "nbformat_minor": 5
}
